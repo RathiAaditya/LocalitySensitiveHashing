{
 "cells": [
  {
   "cell_type": "code",
   "execution_count": null,
   "metadata": {},
   "outputs": [],
   "source": [
    "import numpy as np"
   ]
  },
  {
   "cell_type": "code",
   "execution_count": null,
   "metadata": {},
   "outputs": [],
   "source": [
    "def make_kgrams(text, k):\n",
    "    kgrams = set()\n",
    "    for i in range(len(text) - k + 1):\n",
    "        kgrams.add(text[i:i+k])\n",
    "    return kgrams"
   ]
  },
  {
   "cell_type": "code",
   "execution_count": null,
   "metadata": {},
   "outputs": [],
   "source": [
    "\n",
    "# list_text = []  #list of all paragraphs\n",
    "# para_list = {}  #map from para : doc\n",
    "# list_doc = []   #list of names of all txt input files\n",
    "# file1 = open('myfile.txt', 'w',encoding = 'utf-8')\n",
    "# doc = 0\n",
    "# for root,dir,files in os.walk('Originals'):\n",
    "#     for file in files:\n",
    "#         # print(os.path.join(root,file))\n",
    "#         if(os.path.join(root,file).endswith('.txt')):\n",
    "#             # path = root.split('/')\n",
    "#             print(file)\n",
    "#             list_doc.append(file)\n",
    "#             doc = len(list_doc)-1\n",
    "#             s = \"\"\n",
    "#             i = 0\n",
    "#             file1 = open(os.path.join(root,file),encoding='utf8')\n",
    "#             text = file1.read()\n",
    "#             text = re.split(r\"\\n\\s+\",text)\n",
    "#             for para in text:\n",
    "#                 para = para.split()\n",
    "#                 # print(\"NEW PARA ___\",para)\n",
    "#                 for word in para:\n",
    "#                     # print(word+'WORD')\n",
    "#                     s= s+ \" \" + word\n",
    "#                     i+=1\n",
    "#                     if(i>=100 and s[-1]=='.'):\n",
    "#                         list_text.append(s)\n",
    "#                         para_list[len(list_text)-1] = doc\n",
    "#                         s=\"\"\n",
    "#                         i=0\n",
    "#                 if(i<40): continue\n",
    "#                 list_text.append(s)\n",
    "#                 para_list[len(list_text)-1] = doc\n",
    "#                 s=\"\"\n",
    "#                 i=0\n",
    "# end_time = time.time()\n",
    "# time1 = end_time - start_time\n",
    "# print(\"\\nTime required to extract paragraphs and map to documents = \", time1, \"s\")\n"
   ]
  }
 ],
 "metadata": {
  "language_info": {
   "name": "python"
  },
  "orig_nbformat": 4
 },
 "nbformat": 4,
 "nbformat_minor": 2
}
